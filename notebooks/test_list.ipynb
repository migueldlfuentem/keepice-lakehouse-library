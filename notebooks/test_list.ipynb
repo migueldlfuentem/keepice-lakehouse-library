{
 "cells": [
  {
   "cell_type": "code",
   "execution_count": 1,
   "id": "d24f0f98",
   "metadata": {},
   "outputs": [],
   "source": [
    "import os\n",
    "import sys\n",
    "\n",
    "sys.path.insert(0, os.path.abspath(\"../src\"))"
   ]
  },
  {
   "cell_type": "markdown",
   "id": "ec2883e1-19e9-4e5c-b45b-f375eef95053",
   "metadata": {},
   "source": [
    "### Import Library and Create Factory Instance"
   ]
  },
  {
   "cell_type": "code",
   "execution_count": 13,
   "id": "0f32becd-d889-43fb-a4ed-124769d73e7b",
   "metadata": {},
   "outputs": [
    {
     "name": "stdout",
     "output_type": "stream",
     "text": [
      "/home/iceberg/notebooks/keepice/keepice-lakehouse-library/src/keepice_lakehouse/config\n",
      "/home/iceberg/notebooks/keepice/keepice-lakehouse-library/src/config\n",
      "/home/iceberg/notebooks/keepice/keepice-lakehouse-library/config\n"
     ]
    }
   ],
   "source": [
    "from keepice_lakehouse import IcebergManagerFactory\n",
    "\n",
    "factory = IcebergManagerFactory()\n",
    "\n",
    "spark_manager = factory.get_manager('spark_iceberg')"
   ]
  },
  {
   "cell_type": "markdown",
   "id": "6a48c322-37e7-47d9-a413-49ff5d9a1728",
   "metadata": {},
   "source": [
    "### Create Database"
   ]
  },
  {
   "cell_type": "code",
   "execution_count": 2,
   "id": "1c9a5fb7-fd28-490b-bbda-3b8e90b08e82",
   "metadata": {},
   "outputs": [],
   "source": [
    "spark_manager.create_database(database_name='test')"
   ]
  },
  {
   "cell_type": "markdown",
   "id": "6d4587f7-653b-4bf9-adcd-ef80805dc2b2",
   "metadata": {},
   "source": [
    "### Create Table"
   ]
  },
  {
   "cell_type": "code",
   "execution_count": 14,
   "id": "18803397-8ae0-4c57-bccd-943214bdb04f",
   "metadata": {},
   "outputs": [],
   "source": [
    "schema_dict = {\n",
    "    \"VendorID\": \"bigint\",\n",
    "    \"tpep_pickup_datetime\": \"timestamp\",\n",
    "    \"tpep_dropoff_datetime\": \"timestamp\",\n",
    "    \"passenger_count\": \"double\",\n",
    "    \"trip_distance\": \"double\",\n",
    "    \"RatecodeID\": \"double\",\n",
    "    \"store_and_fwd_flag\": \"string\",\n",
    "    \"PULocationID\": \"bigint\",\n",
    "    \"DOLocationID\": \"bigint\",\n",
    "    \"payment_type\": \"bigint\",\n",
    "    \"fare_amount\": \"double\",\n",
    "    \"extra\": \"double\",\n",
    "    \"mta_tax\": \"double\",\n",
    "    \"tip_amount\": \"double\",\n",
    "    \"tolls_amount\": \"double\",\n",
    "    \"improvement_surcharge\": \"double\",\n",
    "    \"total_amount\": \"double\",\n",
    "    \"congestion_surcharge\": \"double\",\n",
    "    \"airport_fee\": \"double\"\n",
    "}\n",
    "spark_manager.create_table(database_name='test', table_name='taxi_test_table', columns=schema_dict, s3_folder_location=\"s3://warehouse/test/taxi-test-table\", partition_column = \"days(tpep_pickup_datetime)\")"
   ]
  },
  {
   "cell_type": "markdown",
   "id": "bbd114ed-04e7-4e13-ba9e-3b3ea9e90cac",
   "metadata": {},
   "source": [
    "### List Databases and Tables"
   ]
  },
  {
   "cell_type": "code",
   "execution_count": 7,
   "id": "a121f834-35b3-41dc-b14f-2bec24a3ccb9",
   "metadata": {},
   "outputs": [
    {
     "name": "stdout",
     "output_type": "stream",
     "text": [
      "+---------+\n",
      "|namespace|\n",
      "+---------+\n",
      "|     test|\n",
      "+---------+\n",
      "\n",
      "+---------+---------------+-----------+\n",
      "|namespace|      tableName|isTemporary|\n",
      "+---------+---------------+-----------+\n",
      "|     test|taxi_test_table|      false|\n",
      "+---------+---------------+-----------+\n",
      "\n"
     ]
    }
   ],
   "source": [
    "spark_manager.list_databases().show()\n",
    "spark_manager.list_tables(database_name='test').show()"
   ]
  },
  {
   "cell_type": "markdown",
   "id": "217318ec-b738-4615-a51e-75038e12d3fd",
   "metadata": {},
   "source": [
    "### Get Table DDL"
   ]
  },
  {
   "cell_type": "code",
   "execution_count": 11,
   "id": "5287ffb1-52e4-409d-9488-958bfc40b8f4",
   "metadata": {},
   "outputs": [
    {
     "name": "stdout",
     "output_type": "stream",
     "text": [
      "CREATE TABLE demo.test.taxi_test_table (\n",
      "  VendorID BIGINT,\n",
      "  tpep_pickup_datetime TIMESTAMP,\n",
      "  tpep_dropoff_datetime TIMESTAMP,\n",
      "  passenger_count DOUBLE,\n",
      "  trip_distance DOUBLE,\n",
      "  RatecodeID DOUBLE,\n",
      "  store_and_fwd_flag STRING,\n",
      "  PULocationID BIGINT,\n",
      "  DOLocationID BIGINT,\n",
      "  payment_type BIGINT,\n",
      "  fare_amount DOUBLE,\n",
      "  extra DOUBLE,\n",
      "  mta_tax DOUBLE,\n",
      "  tip_amount DOUBLE,\n",
      "  tolls_amount DOUBLE,\n",
      "  improvement_surcharge DOUBLE,\n",
      "  total_amount DOUBLE,\n",
      "  congestion_surcharge DOUBLE,\n",
      "  airport_fee DOUBLE)\n",
      "USING iceberg\n",
      "PARTITIONED BY (days(tpep_pickup_datetime))\n",
      "LOCATION 's3://warehouse/test/taxi-test-table'\n",
      "TBLPROPERTIES (\n",
      "  'current-snapshot-id' = 'none',\n",
      "  'format' = 'iceberg/parquet',\n",
      "  'format-version' = '2',\n",
      "  'write.parquet.compression-codec' = 'zstd')\n",
      "\n"
     ]
    }
   ],
   "source": [
    "df = spark_manager.get_table_ddl(database_name='test', table_name='taxi_test_table')\n",
    "ddl = df.select('createtab_stmt').rdd.flatMap(lambda x: x).collect()[0]\n",
    "print(ddl)"
   ]
  },
  {
   "cell_type": "markdown",
   "id": "2d5946f4-ad54-446f-9c92-fca2d2233c7f",
   "metadata": {},
   "source": []
  }
 ],
 "metadata": {
  "kernelspec": {
   "display_name": "Python 3 (ipykernel)",
   "language": "python",
   "name": "python3"
  },
  "language_info": {
   "codemirror_mode": {
    "name": "ipython",
    "version": 3
   },
   "file_extension": ".py",
   "mimetype": "text/x-python",
   "name": "python",
   "nbconvert_exporter": "python",
   "pygments_lexer": "ipython3",
   "version": "3.11.5"
  }
 },
 "nbformat": 4,
 "nbformat_minor": 5
}
